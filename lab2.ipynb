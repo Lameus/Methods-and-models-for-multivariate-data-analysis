{
 "cells": [
  {
   "cell_type": "code",
   "execution_count": 280,
   "metadata": {},
   "outputs": [],
   "source": [
    "import pandas as pd\n",
    "import numpy as np\n",
    "import matplotlib.pyplot as plt\n",
    "import seaborn as sns\n",
    "from scipy import stats"
   ]
  },
  {
   "cell_type": "code",
   "execution_count": 281,
   "metadata": {},
   "outputs": [],
   "source": [
    "db = pd.read_csv('london_merged.csv')"
   ]
  },
  {
   "cell_type": "code",
   "execution_count": 282,
   "metadata": {},
   "outputs": [
    {
     "data": {
      "text/html": [
       "<div>\n",
       "<style scoped>\n",
       "    .dataframe tbody tr th:only-of-type {\n",
       "        vertical-align: middle;\n",
       "    }\n",
       "\n",
       "    .dataframe tbody tr th {\n",
       "        vertical-align: top;\n",
       "    }\n",
       "\n",
       "    .dataframe thead th {\n",
       "        text-align: right;\n",
       "    }\n",
       "</style>\n",
       "<table border=\"1\" class=\"dataframe\">\n",
       "  <thead>\n",
       "    <tr style=\"text-align: right;\">\n",
       "      <th></th>\n",
       "      <th>timestamp</th>\n",
       "      <th>cnt</th>\n",
       "      <th>t1</th>\n",
       "      <th>t2</th>\n",
       "      <th>hum</th>\n",
       "      <th>wind_speed</th>\n",
       "      <th>weather_code</th>\n",
       "      <th>is_holiday</th>\n",
       "      <th>is_weekend</th>\n",
       "      <th>season</th>\n",
       "    </tr>\n",
       "  </thead>\n",
       "  <tbody>\n",
       "    <tr>\n",
       "      <th>0</th>\n",
       "      <td>2015-01-04 00:00:00</td>\n",
       "      <td>182</td>\n",
       "      <td>3.0</td>\n",
       "      <td>2.0</td>\n",
       "      <td>93.0</td>\n",
       "      <td>6.0</td>\n",
       "      <td>3.0</td>\n",
       "      <td>0.0</td>\n",
       "      <td>1.0</td>\n",
       "      <td>3.0</td>\n",
       "    </tr>\n",
       "    <tr>\n",
       "      <th>1</th>\n",
       "      <td>2015-01-04 01:00:00</td>\n",
       "      <td>138</td>\n",
       "      <td>3.0</td>\n",
       "      <td>2.5</td>\n",
       "      <td>93.0</td>\n",
       "      <td>5.0</td>\n",
       "      <td>1.0</td>\n",
       "      <td>0.0</td>\n",
       "      <td>1.0</td>\n",
       "      <td>3.0</td>\n",
       "    </tr>\n",
       "    <tr>\n",
       "      <th>2</th>\n",
       "      <td>2015-01-04 02:00:00</td>\n",
       "      <td>134</td>\n",
       "      <td>2.5</td>\n",
       "      <td>2.5</td>\n",
       "      <td>96.5</td>\n",
       "      <td>0.0</td>\n",
       "      <td>1.0</td>\n",
       "      <td>0.0</td>\n",
       "      <td>1.0</td>\n",
       "      <td>3.0</td>\n",
       "    </tr>\n",
       "    <tr>\n",
       "      <th>3</th>\n",
       "      <td>2015-01-04 03:00:00</td>\n",
       "      <td>72</td>\n",
       "      <td>2.0</td>\n",
       "      <td>2.0</td>\n",
       "      <td>100.0</td>\n",
       "      <td>0.0</td>\n",
       "      <td>1.0</td>\n",
       "      <td>0.0</td>\n",
       "      <td>1.0</td>\n",
       "      <td>3.0</td>\n",
       "    </tr>\n",
       "    <tr>\n",
       "      <th>4</th>\n",
       "      <td>2015-01-04 04:00:00</td>\n",
       "      <td>47</td>\n",
       "      <td>2.0</td>\n",
       "      <td>0.0</td>\n",
       "      <td>93.0</td>\n",
       "      <td>6.5</td>\n",
       "      <td>1.0</td>\n",
       "      <td>0.0</td>\n",
       "      <td>1.0</td>\n",
       "      <td>3.0</td>\n",
       "    </tr>\n",
       "  </tbody>\n",
       "</table>\n",
       "</div>"
      ],
      "text/plain": [
       "             timestamp  cnt   t1   t2    hum  wind_speed  weather_code  \\\n",
       "0  2015-01-04 00:00:00  182  3.0  2.0   93.0         6.0           3.0   \n",
       "1  2015-01-04 01:00:00  138  3.0  2.5   93.0         5.0           1.0   \n",
       "2  2015-01-04 02:00:00  134  2.5  2.5   96.5         0.0           1.0   \n",
       "3  2015-01-04 03:00:00   72  2.0  2.0  100.0         0.0           1.0   \n",
       "4  2015-01-04 04:00:00   47  2.0  0.0   93.0         6.5           1.0   \n",
       "\n",
       "   is_holiday  is_weekend  season  \n",
       "0         0.0         1.0     3.0  \n",
       "1         0.0         1.0     3.0  \n",
       "2         0.0         1.0     3.0  \n",
       "3         0.0         1.0     3.0  \n",
       "4         0.0         1.0     3.0  "
      ]
     },
     "execution_count": 282,
     "metadata": {},
     "output_type": "execute_result"
    }
   ],
   "source": [
    "db.head()"
   ]
  },
  {
   "cell_type": "code",
   "execution_count": 283,
   "metadata": {},
   "outputs": [
    {
     "name": "stdout",
     "output_type": "stream",
     "text": [
      "<class 'pandas.core.frame.DataFrame'>\n",
      "RangeIndex: 17414 entries, 0 to 17413\n",
      "Data columns (total 10 columns):\n",
      " #   Column        Non-Null Count  Dtype  \n",
      "---  ------        --------------  -----  \n",
      " 0   timestamp     17414 non-null  object \n",
      " 1   cnt           17414 non-null  int64  \n",
      " 2   t1            17414 non-null  float64\n",
      " 3   t2            17414 non-null  float64\n",
      " 4   hum           17414 non-null  float64\n",
      " 5   wind_speed    17414 non-null  float64\n",
      " 6   weather_code  17414 non-null  float64\n",
      " 7   is_holiday    17414 non-null  float64\n",
      " 8   is_weekend    17414 non-null  float64\n",
      " 9   season        17414 non-null  float64\n",
      "dtypes: float64(8), int64(1), object(1)\n",
      "memory usage: 1.3+ MB\n"
     ]
    }
   ],
   "source": [
    "db.info()"
   ]
  },
  {
   "cell_type": "code",
   "execution_count": 284,
   "metadata": {},
   "outputs": [],
   "source": [
    "db = db.drop(columns=['timestamp'], axis=1)"
   ]
  },
  {
   "cell_type": "code",
   "execution_count": 285,
   "metadata": {},
   "outputs": [
    {
     "data": {
      "text/plain": [
       "cnt             3781\n",
       "t1                73\n",
       "t2                82\n",
       "hum              143\n",
       "wind_speed       103\n",
       "weather_code       7\n",
       "is_holiday         2\n",
       "is_weekend         2\n",
       "season             4\n",
       "dtype: int64"
      ]
     },
     "execution_count": 285,
     "metadata": {},
     "output_type": "execute_result"
    }
   ],
   "source": [
    "db.nunique()"
   ]
  },
  {
   "cell_type": "markdown",
   "metadata": {},
   "source": [
    "### Step 1"
   ]
  },
  {
   "cell_type": "markdown",
   "metadata": {},
   "source": [
    "Distribution of continuous MRV"
   ]
  },
  {
   "cell_type": "code",
   "execution_count": 286,
   "metadata": {},
   "outputs": [
    {
     "data": {
      "image/png": "[encoded data removed]",
      "text/plain": [
       "<Figure size 864x576 with 5 Axes>"
      ]
     },
     "metadata": {
      "needs_background": "light"
     },
     "output_type": "display_data"
    }
   ],
   "source": [
    "plt.figure(figsize=(12, 8))\n",
    "for i, col in enumerate(db.loc[:,:'wind_speed'].columns):\n",
    "    plt.subplot(3, 2, i + 1)\n",
    "    sns.histplot(db[col],kde=True,color='b')\n",
    "    plt.title(col);"
   ]
  },
  {
   "cell_type": "code",
   "execution_count": 287,
   "metadata": {},
   "outputs": [
    {
     "data": {
      "image/png": "[encoded data removed]",
      "text/plain": [
       "<Figure size 432x288 with 1 Axes>"
      ]
     },
     "metadata": {
      "needs_background": "light"
     },
     "output_type": "display_data"
    }
   ],
   "source": [
    "db[[\"t1\", \"t2\"]].plot();"
   ]
  },
  {
   "cell_type": "markdown",
   "metadata": {},
   "source": [
    "We can see those two features are highly connected"
   ]
  },
  {
   "cell_type": "code",
   "execution_count": 288,
   "metadata": {},
   "outputs": [
    {
     "name": "stderr",
     "output_type": "stream",
     "text": [
      "C:\\Users\\1vany\\Anaconda3\\lib\\site-packages\\seaborn\\distributions.py:2557: FutureWarning: `distplot` is a deprecated function and will be removed in a future version. Please adapt your code to use either `displot` (a figure-level function with similar flexibility) or `histplot` (an axes-level function for histograms).\n",
      "  warnings.warn(msg, FutureWarning)\n"
     ]
    },
    {
     "data": {
      "image/png": "[encoded data removed]",
      "text/plain": [
       "<Figure size 864x576 with 4 Axes>"
      ]
     },
     "metadata": {
      "needs_background": "light"
     },
     "output_type": "display_data"
    }
   ],
   "source": [
    "plt.figure(figsize=(12, 8))\n",
    "for i, col in enumerate(db.loc[:,'weather_code':].columns):\n",
    "    plt.subplot(3, 2, i + 1)\n",
    "    sns.distplot(db[col], kde=False, color='blue')\n",
    "    plt.title(col);"
   ]
  },
  {
   "cell_type": "code",
   "execution_count": 289,
   "metadata": {},
   "outputs": [
    {
     "name": "stdout",
     "output_type": "stream",
     "text": [
      "Probability law of weather_code \n",
      "\n",
      "0    0.353164\n",
      "1    0.231653\n",
      "2    0.203916\n",
      "3    0.122947\n",
      "4    0.084070\n",
      "5    0.003446\n",
      "6    0.000804\n",
      "dtype: float64\n",
      "Probability law of is_holiday \n",
      "\n",
      "0    0.977949\n",
      "1    0.022051\n",
      "dtype: float64\n",
      "Probability law of is_weekend \n",
      "\n",
      "0    0.714597\n",
      "1    0.285403\n",
      "dtype: float64\n",
      "Probability law of season \n",
      "\n",
      "0    0.252326\n",
      "1    0.251924\n",
      "2    0.248651\n",
      "3    0.247100\n",
      "dtype: float64\n"
     ]
    }
   ],
   "source": [
    "for i in db.loc[:,'weather_code':].columns:\n",
    "    print(f'Probability law of {i} \\n')\n",
    "    print(pd.Series([x/db.shape[0] for x in db[i].value_counts()]))"
   ]
  },
  {
   "cell_type": "markdown",
   "metadata": {},
   "source": [
    "### Step 2"
   ]
  },
  {
   "cell_type": "markdown",
   "metadata": {},
   "source": [
    "Mathematical expectation of each column"
   ]
  },
  {
   "cell_type": "code",
   "execution_count": 290,
   "metadata": {},
   "outputs": [
    {
     "data": {
      "text/plain": [
       "cnt             1143.101642\n",
       "t1                12.468091\n",
       "t2                11.520836\n",
       "hum               72.324954\n",
       "wind_speed        15.913063\n",
       "weather_code       2.722752\n",
       "is_holiday         0.022051\n",
       "is_weekend         0.285403\n",
       "season             1.492075\n",
       "dtype: float64"
      ]
     },
     "execution_count": 290,
     "metadata": {},
     "output_type": "execute_result"
    }
   ],
   "source": [
    "db.apply(np.mean)"
   ]
  },
  {
   "cell_type": "markdown",
   "metadata": {},
   "source": [
    "Variance for each column"
   ]
  },
  {
   "cell_type": "code",
   "execution_count": 291,
   "metadata": {},
   "outputs": [
    {
     "data": {
      "text/plain": [
       "cnt             1.177392e+06\n",
       "t1              3.104337e+01\n",
       "t2              4.375763e+01\n",
       "hum             2.048555e+02\n",
       "wind_speed      6.232066e+01\n",
       "weather_code    5.480731e+00\n",
       "is_holiday      2.156497e-02\n",
       "is_weekend      2.039479e-01\n",
       "season          1.251890e+00\n",
       "dtype: float64"
      ]
     },
     "execution_count": 291,
     "metadata": {},
     "output_type": "execute_result"
    }
   ],
   "source": [
    "db.apply(np.var)"
   ]
  },
  {
   "cell_type": "markdown",
   "metadata": {},
   "source": [
    "### Step 3"
   ]
  },
  {
   "cell_type": "markdown",
   "metadata": {},
   "source": [
    "Extract data with count > median value"
   ]
  },
  {
   "cell_type": "code",
   "execution_count": 292,
   "metadata": {},
   "outputs": [],
   "source": [
    "maj_db = db[db['cnt'] > db['cnt'].median()]"
   ]
  },
  {
   "cell_type": "code",
   "execution_count": 293,
   "metadata": {},
   "outputs": [
    {
     "data": {
      "text/plain": [
       "t1              14.479124\n",
       "t2              13.799567\n",
       "hum             65.183004\n",
       "wind_speed      17.175381\n",
       "weather_code     2.365088\n",
       "is_holiday       0.014365\n",
       "is_weekend       0.233624\n",
       "season           1.390025\n",
       "dtype: float64"
      ]
     },
     "execution_count": 293,
     "metadata": {},
     "output_type": "execute_result"
    }
   ],
   "source": [
    "maj_db.loc[:, \"t1\":].apply(np.mean)"
   ]
  },
  {
   "cell_type": "code",
   "execution_count": 294,
   "metadata": {},
   "outputs": [
    {
     "data": {
      "text/plain": [
       "t1               31.802151\n",
       "t2               42.713584\n",
       "hum             215.101967\n",
       "wind_speed       57.292063\n",
       "weather_code      2.708931\n",
       "is_holiday        0.014158\n",
       "is_weekend        0.179044\n",
       "season            1.117703\n",
       "dtype: float64"
      ]
     },
     "execution_count": 294,
     "metadata": {},
     "output_type": "execute_result"
    }
   ],
   "source": [
    "maj_db.loc[:, \"t1\":].apply(np.var)"
   ]
  },
  {
   "cell_type": "code",
   "execution_count": 295,
   "metadata": {},
   "outputs": [
    {
     "data": {
      "image/png": "[encoded data removed]",
      "text/plain": [
       "<Figure size 864x576 with 4 Axes>"
      ]
     },
     "metadata": {
      "needs_background": "light"
     },
     "output_type": "display_data"
    }
   ],
   "source": [
    "plt.figure(figsize=(12, 8))\n",
    "for i, col in enumerate(maj_db.loc[:, \"t1\":'wind_speed'].columns):\n",
    "    plt.subplot(3, 2, i + 1)\n",
    "    sns.histplot(maj_db[col],kde=True,color='b')\n",
    "    plt.title(col);"
   ]
  },
  {
   "cell_type": "markdown",
   "metadata": {},
   "source": [
    "The most difference we can see in the distribution of humidity"
   ]
  },
  {
   "cell_type": "markdown",
   "metadata": {},
   "source": [
    "### Step 4"
   ]
  },
  {
   "cell_type": "code",
   "execution_count": 296,
   "metadata": {},
   "outputs": [
    {
     "data": {
      "text/plain": [
       "<AxesSubplot:>"
      ]
     },
     "execution_count": 296,
     "metadata": {},
     "output_type": "execute_result"
    },
    {
     "data": {
      "image/png": "[encoded data removed]",
      "text/plain": [
       "<Figure size 576x576 with 2 Axes>"
      ]
     },
     "metadata": {
      "needs_background": "light"
     },
     "output_type": "display_data"
    }
   ],
   "source": [
    "plt.figure(figsize=(8, 8))\n",
    "corrmat = db.corr()\n",
    "sns.heatmap(corrmat, cmap='viridis', vmax=1.0, vmin=-1.0, linewidths=0.1,\n",
    "            annot=True, annot_kws={\"size\": 7}, square=True)"
   ]
  },
  {
   "cell_type": "code",
   "execution_count": 297,
   "metadata": {},
   "outputs": [],
   "source": [
    "def mean_confidence_interval(data, confidence=0.95):\n",
    "    a = 1.0 * np.array(data)\n",
    "    n = len(a)\n",
    "    m, se = np.mean(a), stats.sem(a)\n",
    "    h = se * stats.t.ppf((1 + confidence) / 2., n-1)\n",
    "    return m-h, m+h"
   ]
  },
  {
   "cell_type": "code",
   "execution_count": 298,
   "metadata": {},
   "outputs": [],
   "source": [
    "def calculate_pvalues(df):\n",
    "    df = df.dropna()._get_numeric_data()\n",
    "    dfcols = pd.DataFrame(columns=df.columns)\n",
    "    pvalues = dfcols.transpose().join(dfcols, how='outer')\n",
    "    for r in df.columns:\n",
    "        for c in df.columns:\n",
    "            pvalues[r][c] = round(stats.pearsonr(df[r], df[c])[1], 4)\n",
    "    return pvalues"
   ]
  },
  {
   "cell_type": "markdown",
   "metadata": {},
   "source": [
    "Significance levels for correlation matrix"
   ]
  },
  {
   "cell_type": "code",
   "execution_count": 299,
   "metadata": {},
   "outputs": [
    {
     "data": {
      "text/html": [
       "<div>\n",
       "<style scoped>\n",
       "    .dataframe tbody tr th:only-of-type {\n",
       "        vertical-align: middle;\n",
       "    }\n",
       "\n",
       "    .dataframe tbody tr th {\n",
       "        vertical-align: top;\n",
       "    }\n",
       "\n",
       "    .dataframe thead th {\n",
       "        text-align: right;\n",
       "    }\n",
       "</style>\n",
       "<table border=\"1\" class=\"dataframe\">\n",
       "  <thead>\n",
       "    <tr style=\"text-align: right;\">\n",
       "      <th></th>\n",
       "      <th>cnt</th>\n",
       "      <th>t1</th>\n",
       "      <th>t2</th>\n",
       "      <th>hum</th>\n",
       "      <th>wind_speed</th>\n",
       "      <th>weather_code</th>\n",
       "      <th>is_holiday</th>\n",
       "      <th>is_weekend</th>\n",
       "      <th>season</th>\n",
       "    </tr>\n",
       "  </thead>\n",
       "  <tbody>\n",
       "    <tr>\n",
       "      <th>cnt</th>\n",
       "      <td>0.0</td>\n",
       "      <td>0.0356</td>\n",
       "      <td>0.0418</td>\n",
       "      <td>0.0045</td>\n",
       "      <td>0.5143</td>\n",
       "      <td>0.1047</td>\n",
       "      <td>0.6241</td>\n",
       "      <td>0.4938</td>\n",
       "      <td>0.168</td>\n",
       "    </tr>\n",
       "    <tr>\n",
       "      <th>t1</th>\n",
       "      <td>0.0356</td>\n",
       "      <td>0.0</td>\n",
       "      <td>0.0</td>\n",
       "      <td>0.006</td>\n",
       "      <td>0.5716</td>\n",
       "      <td>0.1641</td>\n",
       "      <td>0.5959</td>\n",
       "      <td>0.6785</td>\n",
       "      <td>0.0295</td>\n",
       "    </tr>\n",
       "    <tr>\n",
       "      <th>t2</th>\n",
       "      <td>0.0418</td>\n",
       "      <td>0.0</td>\n",
       "      <td>0.0</td>\n",
       "      <td>0.0095</td>\n",
       "      <td>0.6546</td>\n",
       "      <td>0.1676</td>\n",
       "      <td>0.6016</td>\n",
       "      <td>0.6779</td>\n",
       "      <td>0.03</td>\n",
       "    </tr>\n",
       "    <tr>\n",
       "      <th>hum</th>\n",
       "      <td>0.0045</td>\n",
       "      <td>0.006</td>\n",
       "      <td>0.0095</td>\n",
       "      <td>0.0</td>\n",
       "      <td>0.1548</td>\n",
       "      <td>0.0926</td>\n",
       "      <td>0.8339</td>\n",
       "      <td>0.836</td>\n",
       "      <td>0.0889</td>\n",
       "    </tr>\n",
       "    <tr>\n",
       "      <th>wind_speed</th>\n",
       "      <td>0.5143</td>\n",
       "      <td>0.5716</td>\n",
       "      <td>0.6546</td>\n",
       "      <td>0.1548</td>\n",
       "      <td>0.0</td>\n",
       "      <td>0.8873</td>\n",
       "      <td>0.7202</td>\n",
       "      <td>0.7685</td>\n",
       "      <td>0.6002</td>\n",
       "    </tr>\n",
       "    <tr>\n",
       "      <th>weather_code</th>\n",
       "      <td>0.1047</td>\n",
       "      <td>0.1641</td>\n",
       "      <td>0.1676</td>\n",
       "      <td>0.0926</td>\n",
       "      <td>0.8873</td>\n",
       "      <td>0.0</td>\n",
       "      <td>0.8697</td>\n",
       "      <td>0.9786</td>\n",
       "      <td>0.5184</td>\n",
       "    </tr>\n",
       "    <tr>\n",
       "      <th>is_holiday</th>\n",
       "      <td>0.6241</td>\n",
       "      <td>0.5959</td>\n",
       "      <td>0.6016</td>\n",
       "      <td>0.8339</td>\n",
       "      <td>0.7202</td>\n",
       "      <td>0.8697</td>\n",
       "      <td>0.0</td>\n",
       "      <td>0.4742</td>\n",
       "      <td>0.8418</td>\n",
       "    </tr>\n",
       "    <tr>\n",
       "      <th>is_weekend</th>\n",
       "      <td>0.4938</td>\n",
       "      <td>0.6785</td>\n",
       "      <td>0.6779</td>\n",
       "      <td>0.836</td>\n",
       "      <td>0.7685</td>\n",
       "      <td>0.9786</td>\n",
       "      <td>0.4742</td>\n",
       "      <td>0.0</td>\n",
       "      <td>0.9362</td>\n",
       "    </tr>\n",
       "    <tr>\n",
       "      <th>season</th>\n",
       "      <td>0.168</td>\n",
       "      <td>0.0295</td>\n",
       "      <td>0.03</td>\n",
       "      <td>0.0889</td>\n",
       "      <td>0.6002</td>\n",
       "      <td>0.5184</td>\n",
       "      <td>0.8418</td>\n",
       "      <td>0.9362</td>\n",
       "      <td>0.0</td>\n",
       "    </tr>\n",
       "  </tbody>\n",
       "</table>\n",
       "</div>"
      ],
      "text/plain": [
       "                 cnt      t1      t2     hum wind_speed weather_code  \\\n",
       "cnt              0.0  0.0356  0.0418  0.0045     0.5143       0.1047   \n",
       "t1            0.0356     0.0     0.0   0.006     0.5716       0.1641   \n",
       "t2            0.0418     0.0     0.0  0.0095     0.6546       0.1676   \n",
       "hum           0.0045   0.006  0.0095     0.0     0.1548       0.0926   \n",
       "wind_speed    0.5143  0.5716  0.6546  0.1548        0.0       0.8873   \n",
       "weather_code  0.1047  0.1641  0.1676  0.0926     0.8873          0.0   \n",
       "is_holiday    0.6241  0.5959  0.6016  0.8339     0.7202       0.8697   \n",
       "is_weekend    0.4938  0.6785  0.6779   0.836     0.7685       0.9786   \n",
       "season         0.168  0.0295    0.03  0.0889     0.6002       0.5184   \n",
       "\n",
       "             is_holiday is_weekend  season  \n",
       "cnt              0.6241     0.4938   0.168  \n",
       "t1               0.5959     0.6785  0.0295  \n",
       "t2               0.6016     0.6779    0.03  \n",
       "hum              0.8339      0.836  0.0889  \n",
       "wind_speed       0.7202     0.7685  0.6002  \n",
       "weather_code     0.8697     0.9786  0.5184  \n",
       "is_holiday          0.0     0.4742  0.8418  \n",
       "is_weekend       0.4742        0.0  0.9362  \n",
       "season           0.8418     0.9362     0.0  "
      ]
     },
     "execution_count": 299,
     "metadata": {},
     "output_type": "execute_result"
    }
   ],
   "source": [
    "calculate_pvalues(corrmat) "
   ]
  },
  {
   "cell_type": "code",
   "execution_count": 300,
   "metadata": {},
   "outputs": [],
   "source": [
    "intervals = mean_confidence_interval(corrmat)"
   ]
  },
  {
   "cell_type": "code",
   "execution_count": 301,
   "metadata": {},
   "outputs": [
    {
     "name": "stdout",
     "output_type": "stream",
     "text": [
      "p-value column cnt confidence interval: (-0.21603584161358336, 0.44108397147097833)\n",
      "p-value column t1 confidence interval: (-0.28523860483991215, 0.5102867346973071)\n",
      "p-value column t2 confidence interval: (-0.28026051368827626, 0.5053086435456713)\n",
      "p-value column hum confidence interval: (-0.2578990925840438, 0.4829472224414388)\n",
      "p-value column wind_speed confidence interval: (-0.15643334581792667, 0.38148147567532165)\n",
      "p-value column weather_code confidence interval: (-0.16089193760373255, 0.3859400674611275)\n",
      "p-value column is_holiday confidence interval: (-0.15229645377864487, 0.37734458363603984)\n",
      "p-value column is_weekend confidence interval: (-0.15033474678078712, 0.3753828766381821)\n",
      "p-value column season confidence interval: (-0.18774919529811013, 0.4127973251555051)\n"
     ]
    }
   ],
   "source": [
    "for i in range(db.shape[1]):\n",
    "    print(f'p-value column {db.columns[i]} confidence interval: ({intervals[0][i]}, {intervals[1][i]})')"
   ]
  },
  {
   "cell_type": "markdown",
   "metadata": {},
   "source": [
    "### Step 5"
   ]
  },
  {
   "cell_type": "markdown",
   "metadata": {},
   "source": [
    "Target feature is a count of bikes, correlation with predictors calculated in previous step"
   ]
  },
  {
   "cell_type": "markdown",
   "metadata": {},
   "source": [
    "### Step 6"
   ]
  },
  {
   "cell_type": "code",
   "execution_count": 302,
   "metadata": {},
   "outputs": [],
   "source": [
    "from sklearn.linear_model import LinearRegression, Lasso, LassoCV\n",
    "from sklearn.metrics import mean_absolute_error, mean_squared_error\n",
    "from sklearn.preprocessing import PolynomialFeatures, MinMaxScaler, StandardScaler\n",
    "from sklearn.model_selection import train_test_split"
   ]
  },
  {
   "cell_type": "code",
   "execution_count": 303,
   "metadata": {},
   "outputs": [],
   "source": [
    "X_train, X_val, y_train, y_val = train_test_split(db.drop('cnt', axis=1), db['cnt'], random_state=17)"
   ]
  },
  {
   "cell_type": "code",
   "execution_count": 304,
   "metadata": {},
   "outputs": [],
   "source": [
    "linreg = LinearRegression(normalize=True)"
   ]
  },
  {
   "cell_type": "code",
   "execution_count": 305,
   "metadata": {},
   "outputs": [
    {
     "data": {
      "text/plain": [
       "LinearRegression(normalize=True)"
      ]
     },
     "execution_count": 305,
     "metadata": {},
     "output_type": "execute_result"
    }
   ],
   "source": [
    "linreg.fit(X_train, y_train)"
   ]
  },
  {
   "cell_type": "code",
   "execution_count": 306,
   "metadata": {},
   "outputs": [],
   "source": [
    "params = linreg.coef_"
   ]
  },
  {
   "cell_type": "code",
   "execution_count": 323,
   "metadata": {},
   "outputs": [],
   "source": [
    "def coefs(coefs, feature_names=db.drop('cnt', axis=1).columns):\n",
    "    return pd.DataFrame(coefs, index=feature_names,\n",
    "                       columns=['coef']).sort_values('coef',\n",
    "                                                  ascending=False)"
   ]
  },
  {
   "cell_type": "code",
   "execution_count": 308,
   "metadata": {},
   "outputs": [
    {
     "data": {
      "text/html": [
       "<div>\n",
       "<style scoped>\n",
       "    .dataframe tbody tr th:only-of-type {\n",
       "        vertical-align: middle;\n",
       "    }\n",
       "\n",
       "    .dataframe tbody tr th {\n",
       "        vertical-align: top;\n",
       "    }\n",
       "\n",
       "    .dataframe thead th {\n",
       "        text-align: right;\n",
       "    }\n",
       "</style>\n",
       "<table border=\"1\" class=\"dataframe\">\n",
       "  <thead>\n",
       "    <tr style=\"text-align: right;\">\n",
       "      <th></th>\n",
       "      <th>coef</th>\n",
       "    </tr>\n",
       "  </thead>\n",
       "  <tbody>\n",
       "    <tr>\n",
       "      <th>t1</th>\n",
       "      <td>69.447481</td>\n",
       "    </tr>\n",
       "    <tr>\n",
       "      <th>season</th>\n",
       "      <td>60.100982</td>\n",
       "    </tr>\n",
       "    <tr>\n",
       "      <th>wind_speed</th>\n",
       "      <td>-4.479778</td>\n",
       "    </tr>\n",
       "    <tr>\n",
       "      <th>weather_code</th>\n",
       "      <td>-8.645197</td>\n",
       "    </tr>\n",
       "    <tr>\n",
       "      <th>t2</th>\n",
       "      <td>-19.011091</td>\n",
       "    </tr>\n",
       "    <tr>\n",
       "      <th>hum</th>\n",
       "      <td>-28.023112</td>\n",
       "    </tr>\n",
       "    <tr>\n",
       "      <th>is_weekend</th>\n",
       "      <td>-214.590349</td>\n",
       "    </tr>\n",
       "    <tr>\n",
       "      <th>is_holiday</th>\n",
       "      <td>-286.903971</td>\n",
       "    </tr>\n",
       "  </tbody>\n",
       "</table>\n",
       "</div>"
      ],
      "text/plain": [
       "                    coef\n",
       "t1             69.447481\n",
       "season         60.100982\n",
       "wind_speed     -4.479778\n",
       "weather_code   -8.645197\n",
       "t2            -19.011091\n",
       "hum           -28.023112\n",
       "is_weekend   -214.590349\n",
       "is_holiday   -286.903971"
      ]
     },
     "execution_count": 308,
     "metadata": {},
     "output_type": "execute_result"
    }
   ],
   "source": [
    "coefs(linreg.coef_)"
   ]
  },
  {
   "cell_type": "code",
   "execution_count": 309,
   "metadata": {},
   "outputs": [],
   "source": [
    "y_pred = linreg.predict(X_val)"
   ]
  },
  {
   "cell_type": "code",
   "execution_count": 310,
   "metadata": {},
   "outputs": [
    {
     "name": "stdout",
     "output_type": "stream",
     "text": [
      "Mean absolute error =  680.5047330693583\n",
      "Mean squared error =  846935.2186139161\n"
     ]
    }
   ],
   "source": [
    "mae = mean_absolute_error(y_val, y_pred)\n",
    "mse = mean_squared_error(y_val, y_pred)\n",
    "print('Mean absolute error = ', mae)\n",
    "print('Mean squared error = ', mse)"
   ]
  },
  {
   "cell_type": "markdown",
   "metadata": {},
   "source": [
    "Lasso regression"
   ]
  },
  {
   "cell_type": "code",
   "execution_count": 311,
   "metadata": {},
   "outputs": [
    {
     "data": {
      "text/plain": [
       "Lasso(alpha=0.1, normalize=True)"
      ]
     },
     "execution_count": 311,
     "metadata": {},
     "output_type": "execute_result"
    }
   ],
   "source": [
    "clf = Lasso(alpha=0.1, normalize=True)\n",
    "clf.fit(X_train, y_train)"
   ]
  },
  {
   "cell_type": "code",
   "execution_count": 312,
   "metadata": {},
   "outputs": [
    {
     "data": {
      "text/html": [
       "<div>\n",
       "<style scoped>\n",
       "    .dataframe tbody tr th:only-of-type {\n",
       "        vertical-align: middle;\n",
       "    }\n",
       "\n",
       "    .dataframe tbody tr th {\n",
       "        vertical-align: top;\n",
       "    }\n",
       "\n",
       "    .dataframe thead th {\n",
       "        text-align: right;\n",
       "    }\n",
       "</style>\n",
       "<table border=\"1\" class=\"dataframe\">\n",
       "  <thead>\n",
       "    <tr style=\"text-align: right;\">\n",
       "      <th></th>\n",
       "      <th>coef</th>\n",
       "    </tr>\n",
       "  </thead>\n",
       "  <tbody>\n",
       "    <tr>\n",
       "      <th>t1</th>\n",
       "      <td>44.428249</td>\n",
       "    </tr>\n",
       "    <tr>\n",
       "      <th>season</th>\n",
       "      <td>43.645366</td>\n",
       "    </tr>\n",
       "    <tr>\n",
       "      <th>t2</th>\n",
       "      <td>0.000000</td>\n",
       "    </tr>\n",
       "    <tr>\n",
       "      <th>wind_speed</th>\n",
       "      <td>-1.637305</td>\n",
       "    </tr>\n",
       "    <tr>\n",
       "      <th>weather_code</th>\n",
       "      <td>-6.255301</td>\n",
       "    </tr>\n",
       "    <tr>\n",
       "      <th>hum</th>\n",
       "      <td>-27.404364</td>\n",
       "    </tr>\n",
       "    <tr>\n",
       "      <th>is_weekend</th>\n",
       "      <td>-187.511085</td>\n",
       "    </tr>\n",
       "    <tr>\n",
       "      <th>is_holiday</th>\n",
       "      <td>-213.567450</td>\n",
       "    </tr>\n",
       "  </tbody>\n",
       "</table>\n",
       "</div>"
      ],
      "text/plain": [
       "                    coef\n",
       "t1             44.428249\n",
       "season         43.645366\n",
       "t2              0.000000\n",
       "wind_speed     -1.637305\n",
       "weather_code   -6.255301\n",
       "hum           -27.404364\n",
       "is_weekend   -187.511085\n",
       "is_holiday   -213.567450"
      ]
     },
     "execution_count": 312,
     "metadata": {},
     "output_type": "execute_result"
    }
   ],
   "source": [
    "coefs(clf.coef_)"
   ]
  },
  {
   "cell_type": "code",
   "execution_count": 313,
   "metadata": {},
   "outputs": [
    {
     "name": "stdout",
     "output_type": "stream",
     "text": [
      "Mean absolute error =  680.2201734107324\n",
      "Mean squared error =  846665.2577758167\n"
     ]
    }
   ],
   "source": [
    "mae_lasso = mean_absolute_error(y_val, clf.predict(X_val))\n",
    "mse_lasso = mean_squared_error(y_val, clf.predict(X_val))\n",
    "print('Mean absolute error = ', mae_lasso)\n",
    "print('Mean squared error = ', mse_lasso)"
   ]
  },
  {
   "cell_type": "markdown",
   "metadata": {},
   "source": [
    "Let's drop column with highest pair correlation"
   ]
  },
  {
   "cell_type": "code",
   "execution_count": 314,
   "metadata": {},
   "outputs": [],
   "source": [
    "db = db.drop('t2', axis=1)"
   ]
  },
  {
   "cell_type": "code",
   "execution_count": 320,
   "metadata": {},
   "outputs": [],
   "source": [
    "X_train, X_val, y_train, y_val = train_test_split(db.drop('cnt', axis=1), db['cnt'], random_state=17)"
   ]
  },
  {
   "cell_type": "code",
   "execution_count": 321,
   "metadata": {},
   "outputs": [
    {
     "data": {
      "text/plain": [
       "Lasso(alpha=0.1, normalize=True)"
      ]
     },
     "execution_count": 321,
     "metadata": {},
     "output_type": "execute_result"
    }
   ],
   "source": [
    "clf = Lasso(alpha=0.1, normalize=True)\n",
    "clf.fit(X_train, y_train)"
   ]
  },
  {
   "cell_type": "code",
   "execution_count": 326,
   "metadata": {},
   "outputs": [
    {
     "data": {
      "text/html": [
       "<div>\n",
       "<style scoped>\n",
       "    .dataframe tbody tr th:only-of-type {\n",
       "        vertical-align: middle;\n",
       "    }\n",
       "\n",
       "    .dataframe tbody tr th {\n",
       "        vertical-align: top;\n",
       "    }\n",
       "\n",
       "    .dataframe thead th {\n",
       "        text-align: right;\n",
       "    }\n",
       "</style>\n",
       "<table border=\"1\" class=\"dataframe\">\n",
       "  <thead>\n",
       "    <tr style=\"text-align: right;\">\n",
       "      <th></th>\n",
       "      <th>coef</th>\n",
       "    </tr>\n",
       "  </thead>\n",
       "  <tbody>\n",
       "    <tr>\n",
       "      <th>t1</th>\n",
       "      <td>44.428249</td>\n",
       "    </tr>\n",
       "    <tr>\n",
       "      <th>season</th>\n",
       "      <td>43.645366</td>\n",
       "    </tr>\n",
       "    <tr>\n",
       "      <th>wind_speed</th>\n",
       "      <td>-1.637305</td>\n",
       "    </tr>\n",
       "    <tr>\n",
       "      <th>weather_code</th>\n",
       "      <td>-6.255301</td>\n",
       "    </tr>\n",
       "    <tr>\n",
       "      <th>hum</th>\n",
       "      <td>-27.404364</td>\n",
       "    </tr>\n",
       "    <tr>\n",
       "      <th>is_weekend</th>\n",
       "      <td>-187.511085</td>\n",
       "    </tr>\n",
       "    <tr>\n",
       "      <th>is_holiday</th>\n",
       "      <td>-213.567450</td>\n",
       "    </tr>\n",
       "  </tbody>\n",
       "</table>\n",
       "</div>"
      ],
      "text/plain": [
       "                    coef\n",
       "t1             44.428249\n",
       "season         43.645366\n",
       "wind_speed     -1.637305\n",
       "weather_code   -6.255301\n",
       "hum           -27.404364\n",
       "is_weekend   -187.511085\n",
       "is_holiday   -213.567450"
      ]
     },
     "execution_count": 326,
     "metadata": {},
     "output_type": "execute_result"
    }
   ],
   "source": [
    "coefs(clf.coef_, feature_names=db.drop('cnt', axis=1).columns)"
   ]
  },
  {
   "cell_type": "code",
   "execution_count": 327,
   "metadata": {},
   "outputs": [
    {
     "name": "stdout",
     "output_type": "stream",
     "text": [
      "Mean absolute error =  680.2201734107324\n",
      "Mean squared error =  846665.2577758167\n"
     ]
    }
   ],
   "source": [
    "mae_lasso = mean_absolute_error(y_val, clf.predict(X_val))\n",
    "mse_lasso = mean_squared_error(y_val, clf.predict(X_val))\n",
    "print('Mean absolute error = ', mae_lasso)\n",
    "print('Mean squared error = ', mse_lasso)"
   ]
  },
  {
   "cell_type": "markdown",
   "metadata": {},
   "source": [
    "Polynomial model 2nd degree"
   ]
  },
  {
   "cell_type": "code",
   "execution_count": 335,
   "metadata": {},
   "outputs": [],
   "source": [
    "poly = PolynomialFeatures(2)\n",
    "X_train_new = poly.fit_transform(X_train)\n",
    "poly = PolynomialFeatures(2)\n",
    "X_test_new = poly.fit_transform(X_val)\n",
    "reg = LinearRegression(normalize=True)\n",
    "reg.fit(X_train_new, y_train)\n",
    "y_pred_poly = reg.predict(X_test_new)\n",
    "X_new = poly.fit_transform(db.drop('cnt', axis=1))\n",
    "y_pred_poly_all = reg.predict(X_new)"
   ]
  },
  {
   "cell_type": "code",
   "execution_count": 333,
   "metadata": {},
   "outputs": [
    {
     "name": "stdout",
     "output_type": "stream",
     "text": [
      "Mean absolute error with Polynomial model =  659.6107591379913\n",
      "Mean squared error with Polynomial model =  814928.8032474559\n"
     ]
    }
   ],
   "source": [
    "mae_poly = mean_absolute_error(y_val, y_pred_poly)\n",
    "mse_poly = mean_squared_error(y_val, y_pred_poly)\n",
    "print('Mean absolute error with Polynomial model = ', mae_poly)\n",
    "print('Mean squared error with Polynomial model = ', mse_poly)"
   ]
  },
  {
   "cell_type": "markdown",
   "metadata": {},
   "source": [
    "Polynomial model has the best precision between observed models"
   ]
  },
  {
   "cell_type": "markdown",
   "metadata": {},
   "source": [
    "### Step 7"
   ]
  },
  {
   "cell_type": "code",
   "execution_count": 336,
   "metadata": {},
   "outputs": [
    {
     "data": {
      "text/plain": [
       "Text(0, 0.5, 'Prediction')"
      ]
     },
     "execution_count": 336,
     "metadata": {},
     "output_type": "execute_result"
    },
    {
     "data": {
      "image/png": "[encoded data removed]",
      "text/plain": [
       "<Figure size 720x720 with 1 Axes>"
      ]
     },
     "metadata": {
      "needs_background": "light"
     },
     "output_type": "display_data"
    }
   ],
   "source": [
    "# Plotting a quantile biplot based on real and predicted values\n",
    "percs = np.linspace(0, 100, 21)\n",
    "qn_first = np.percentile(db['cnt'], percs)\n",
    "qn_second = np.percentile(y_pred_poly_all , percs)\n",
    "plt.figure(figsize=(10, 10))\n",
    "\n",
    "min_qn = np.min([qn_first.min(), qn_second.min()])\n",
    "max_qn = np.max([qn_first.max(), qn_second.max()])\n",
    "x = np.linspace(min_qn, max_qn)\n",
    "\n",
    "plt.plot(qn_first, qn_second, ls=\"\", marker=\"o\", markersize=6)\n",
    "plt.plot(x, x, color=\"k\", ls=\"--\")\n",
    "\n",
    "plt.xlabel(u'Real')\n",
    "plt.ylabel(u'Prediction')"
   ]
  },
  {
   "cell_type": "code",
   "execution_count": 344,
   "metadata": {},
   "outputs": [
    {
     "name": "stderr",
     "output_type": "stream",
     "text": [
      "C:\\Users\\1vany\\Anaconda3\\lib\\site-packages\\seaborn\\distributions.py:2557: FutureWarning: `distplot` is a deprecated function and will be removed in a future version. Please adapt your code to use either `displot` (a figure-level function with similar flexibility) or `histplot` (an axes-level function for histograms).\n",
      "  warnings.warn(msg, FutureWarning)\n"
     ]
    },
    {
     "data": {
      "text/plain": [
       "<AxesSubplot:>"
      ]
     },
     "execution_count": 344,
     "metadata": {},
     "output_type": "execute_result"
    },
    {
     "data": {
      "image/png": "[encoded data removed]",
      "text/plain": [
       "<Figure size 432x288 with 1 Axes>"
      ]
     },
     "metadata": {
      "needs_background": "light"
     },
     "output_type": "display_data"
    }
   ],
   "source": [
    "# Plotting the distribution of residuals\n",
    "y1 = np.array(db['cnt'])\n",
    "y2 = np.array(y_pred_poly_all)\n",
    "y_diff = y1[:] - y2[:]\n",
    "sns.distplot(y_diff, kde=False)"
   ]
  },
  {
   "cell_type": "code",
   "execution_count": 347,
   "metadata": {},
   "outputs": [
    {
     "name": "stdout",
     "output_type": "stream",
     "text": [
      "                       0           1\n",
      "t1             83.674182   90.855401\n",
      "hum            -3.620546   -1.799967\n",
      "wind_speed     13.872334   19.280621\n",
      "weather_code  -52.859328  -32.262757\n",
      "is_holiday   -376.662701  -72.442520\n",
      "is_weekend   -227.860720 -129.086545\n",
      "season         57.451334   99.898716\n"
     ]
    }
   ],
   "source": [
    "#Confidence interval of regression coef \n",
    "import numpy as np, statsmodels.api as sm\n",
    "mod = sm.OLS(y_train, X_train)\n",
    "res = mod.fit()\n",
    "print (res.conf_int(0.01))  \n"
   ]
  }
 ],
 "metadata": {
  "interpreter": {
   "hash": "be649d6ca0cbb8aff5bd83e550ffcae4425bb10820653d740b3bc491245419a1"
  },
  "kernelspec": {
   "display_name": "Python 3.8.8 64-bit ('base': conda)",
   "language": "python",
   "name": "python3"
  },
  "language_info": {
   "codemirror_mode": {
    "name": "ipython",
    "version": 3
   },
   "file_extension": ".py",
   "mimetype": "text/x-python",
   "name": "python",
   "nbconvert_exporter": "python",
   "pygments_lexer": "ipython3",
   "version": "3.8.8"
  },
  "orig_nbformat": 4
 },
 "nbformat": 4,
 "nbformat_minor": 2
}
